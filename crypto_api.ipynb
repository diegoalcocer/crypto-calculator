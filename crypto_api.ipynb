{
 "cells": [
  {
   "cell_type": "code",
   "execution_count": 1,
   "id": "adccf38f-8164-4f8c-a50b-b89dbb329981",
   "metadata": {},
   "outputs": [
    {
     "name": "stdout",
     "output_type": "stream",
     "text": [
      "[Coin(symbol='btc', name='Bitcoin', current_price=1, market_cap_rank='29,689', high_24h=29941, low_24h=29571, price_change_24=-0.16145050998782154, price_change_7d=2.0653758331792464), Coin(symbol='eth', name='Ethereum', current_price=2, market_cap_rank='1,783.9', high_24h=1810.29, low_24h=1760.41, price_change_24=0.5688300098377228, price_change_7d=-0.8227428513571021), Coin(symbol='usdt', name='Tether', current_price=3, market_cap_rank='1.0', high_24h=1.004, low_24h=0.999216, price_change_24=-0.01362214539957747, price_change_7d=-0.09768309365714826), Coin(symbol='usdc', name='USD Coin', current_price=4, market_cap_rank='1.002', high_24h=1.005, low_24h=0.998882, price_change_24=0.23900346749910886, price_change_7d=-0.08243673143352698), Coin(symbol='bnb', name='BNB', current_price=5, market_cap_rank='296.99', high_24h=302.28, low_24h=296.57, price_change_24=-0.9838757460575661, price_change_7d=-3.8982179058457476), Coin(symbol='xrp', name='XRP', current_price=6, market_cap_rank='0.393663', high_24h=0.396556, low_24h=0.388594, price_change_24=0.4730549032340518, price_change_7d=1.7179851424406558), Coin(symbol='ada', name='Cardano', current_price=7, market_cap_rank='0.558431', high_24h=0.570219, low_24h=0.55287, price_change_24=-0.5517815591790852, price_change_7d=19.72415754332635), Coin(symbol='busd', name='Binance USD', current_price=8, market_cap_rank='1.002', high_24h=1.01, low_24h=0.998215, price_change_24=0.0459035117636094, price_change_7d=0.004706071043992206), Coin(symbol='sol', name='Solana', current_price=9, market_cap_rank='39.72', high_24h=39.89, low_24h=36.69, price_change_24=6.7420975950328, price_change_7d=-10.668629110261358), Coin(symbol='doge', name='Dogecoin', current_price=10, market_cap_rank='0.081482', high_24h=0.082998, low_24h=0.080861, price_change_24=-0.08218190637046943, price_change_7d=-0.8621407444779541), Coin(symbol='dot', name='Polkadot', current_price=11, market_cap_rank='9.34', high_24h=9.53, low_24h=9.23, price_change_24=-0.21222962288855862, price_change_7d=-3.639118485277991), Coin(symbol='wbtc', name='Wrapped Bitcoin', current_price=12, market_cap_rank='29,659', high_24h=29982, low_24h=29525, price_change_24=-0.21990822953333306, price_change_7d=1.9699178632310848), Coin(symbol='trx', name='TRON', current_price=13, market_cap_rank='0.080251', high_24h=0.080769, low_24h=0.079003, price_change_24=0.2757808201463499, price_change_7d=-1.4051065792452462), Coin(symbol='steth', name='Lido Staked Ether', current_price=14, market_cap_rank='1,747.53', high_24h=1776.16, low_24h=1724.34, price_change_24=0.6553785684532788, price_change_7d=-0.5579730365901144), Coin(symbol='avax', name='Avalanche', current_price=15, market_cap_rank='24.54', high_24h=25.07, low_24h=22.76, price_change_24=6.075772681525157, price_change_7d=-1.3846532240438487), Coin(symbol='dai', name='Dai', current_price=16, market_cap_rank='1.001', high_24h=1.005, low_24h=0.999617, price_change_24=-0.022451729109581382, price_change_7d=-0.1251226430483353), Coin(symbol='shib', name='Shiba Inu', current_price=17, market_cap_rank='1.074e-05', high_24h=1.091e-05, low_24h=1.07e-05, price_change_24=-1.216173590679909, price_change_7d=-0.5880172730510642), Coin(symbol='leo', name='LEO Token', current_price=18, market_cap_rank='4.99', high_24h=5.04, low_24h=4.86, price_change_24=2.3043480358088515, price_change_7d=-1.302519885840657), Coin(symbol='cro', name='Cronos', current_price=19, market_cap_rank='0.176355', high_24h=0.179862, low_24h=0.17596, price_change_24=-1.9030315366855184, price_change_7d=3.310909752540388), Coin(symbol='ltc', name='Litecoin', current_price=20, market_cap_rank='62.74', high_24h=64.21, low_24h=62.21, price_change_24=-0.22568746609193013, price_change_7d=-0.6654677868214819), Coin(symbol='matic', name='Polygon', current_price=21, market_cap_rank='0.586737', high_24h=0.598907, low_24h=0.587088, price_change_24=-1.61988632141224, price_change_7d=-0.2824779917006402), Coin(symbol='near', name='NEAR Protocol', current_price=22, market_cap_rank='5.27', high_24h=5.38, low_24h=5.19, price_change_24=-1.3522138044757341, price_change_7d=5.164585590457225), Coin(symbol='xlm', name='Stellar', current_price=23, market_cap_rank='0.14408', high_24h=0.145305, low_24h=0.141272, price_change_24=0.2722047749706973, price_change_7d=16.836617700513198), Coin(symbol='bch', name='Bitcoin Cash', current_price=24, market_cap_rank='186.8', high_24h=189.46, low_24h=182.68, price_change_24=1.670179373472928, price_change_7d=4.162762343050092), Coin(symbol='ftt', name='FTX', current_price=25, market_cap_rank='25.78', high_24h=26.04, low_24h=25.56, price_change_24=0.011338275879423201, price_change_7d=-4.983839556465236), Coin(symbol='xmr', name='Monero', current_price=26, market_cap_rank='188.59', high_24h=195.4, low_24h=187.56, price_change_24=-3.488580453157436, price_change_7d=6.9546665041251625), Coin(symbol='link', name='Chainlink', current_price=27, market_cap_rank='7.29', high_24h=7.46, low_24h=6.78, price_change_24=5.236303543582607, price_change_7d=10.676147025335956), Coin(symbol='okb', name='OKB', current_price=28, market_cap_rank='11.34', high_24h=11.6, low_24h=11.25, price_change_24=-0.6753733613863458, price_change_7d=-1.6502516682304469), Coin(symbol='etc', name='Ethereum Classic', current_price=29, market_cap_rank='21.79', high_24h=22.04, low_24h=21.65, price_change_24=-0.5120623502983199, price_change_7d=-4.505847784712304), Coin(symbol='xcn', name='Chain', current_price=30, market_cap_rank='0.158925', high_24h=0.158701, low_24h=0.139795, price_change_24=6.532652331021513, price_change_7d=-6.801556263549559), Coin(symbol='atom', name='Cosmos Hub', current_price=31, market_cap_rank='9.18', high_24h=9.27, low_24h=9.02, price_change_24=-0.26579331531084766, price_change_7d=-2.739357707885465), Coin(symbol='algo', name='Algorand', current_price=32, market_cap_rank='0.389243', high_24h=0.391061, low_24h=0.369427, price_change_24=4.038863790162931, price_change_7d=5.803892100589704), Coin(symbol='flow', name='Flow', current_price=33, market_cap_rank='2.45', high_24h=2.5, low_24h=2.44, price_change_24=-1.83912291611934, price_change_7d=1.204474795740295), Coin(symbol='uni', name='Uniswap', current_price=34, market_cap_rank='4.99', high_24h=5.17, low_24h=4.98, price_change_24=-1.909047648352264, price_change_7d=-0.09259128435837549), Coin(symbol='vet', name='VeChain', current_price=35, market_cap_rank='0.03033915', high_24h=0.03071812, low_24h=0.030003, price_change_24=-0.577634682276824, price_change_7d=1.8462386493450862), Coin(symbol='hbar', name='Hedera', current_price=36, market_cap_rank='0.093328', high_24h=0.096291, low_24h=0.088367, price_change_24=4.175574524971794, price_change_7d=4.328674228039518), Coin(symbol='tfuel', name='Theta Fuel', current_price=37, market_cap_rank='0.06128', high_24h=0.061444, low_24h=0.060121, price_change_24=0.5660441970184499, price_change_7d=9.481442803835805), Coin(symbol='ape', name='ApeCoin', current_price=38, market_cap_rank='6.08', high_24h=6.22, low_24h=6.07, price_change_24=-0.9413612543148572, price_change_7d=-2.6396551831869), Coin(symbol='icp', name='Internet Computer', current_price=39, market_cap_rank='7.33', high_24h=7.76, low_24h=7.34, price_change_24=-4.6649457509598555, price_change_7d=1.175193248949412), Coin(symbol='egld', name='Elrond', current_price=40, market_cap_rank='76.07', high_24h=77.58, low_24h=75.64, price_change_24=-0.5692410033787212, price_change_7d=7.975966855829841), Coin(symbol='xtz', name='Tezos', current_price=41, market_cap_rank='1.91', high_24h=1.92, low_24h=1.87, price_change_24=0.011735479115951802, price_change_7d=-3.046907898629863), Coin(symbol='kcs', name='KuCoin', current_price=42, market_cap_rank='16.61', high_24h=17.34, low_24h=16.55, price_change_24=-3.846664295220842, price_change_7d=8.42698293595656), Coin(symbol='axs', name='Axie Infinity', current_price=43, market_cap_rank='19.97', high_24h=20.81, low_24h=19.93, price_change_24=-2.937924892183186, price_change_7d=7.440086957303474), Coin(symbol='sand', name='The Sandbox', current_price=44, market_cap_rank='1.28', high_24h=1.3, low_24h=1.27, price_change_24=-1.113663858900897, price_change_7d=-2.2621520350437128), Coin(symbol='fil', name='Filecoin', current_price=45, market_cap_rank='7.32', high_24h=7.51, low_24h=7.31, price_change_24=-0.7842242524858594, price_change_7d=-3.074246364873888), Coin(symbol='frax', name='Frax', current_price=46, market_cap_rank='1.002', high_24h=1.003, low_24h=0.998989, price_change_24=0.17799442129072454, price_change_7d=-0.09080038016410834), Coin(symbol='aave', name='Aave', current_price=48, market_cap_rank='104.77', high_24h=107.36, low_24h=103.29, price_change_24=-0.7206208904798876, price_change_7d=9.7522343378305), Coin(symbol='mana', name='Decentraland', current_price=47, market_cap_rank='0.968887', high_24h=0.988697, low_24h=0.961894, price_change_24=-1.492762153464343, price_change_7d=0.8849672068522767), Coin(symbol='ceth', name='cETH', current_price=49, market_cap_rank='35.74', high_24h=36.21, low_24h=35.34, price_change_24=0.40651193222161347, price_change_7d=-0.3424465666861426), Coin(symbol='tusd', name='TrueUSD', current_price=50, market_cap_rank='1.001', high_24h=1.008, low_24h=0.998605, price_change_24=-0.041915777873425764, price_change_7d=-0.12945443350859945), Coin(symbol='eos', name='EOS', current_price=51, market_cap_rank='1.27', high_24h=1.29, low_24h=1.26, price_change_24=-1.0496318578584276, price_change_7d=0.5454643817047352), Coin(symbol='grt', name='The Graph', current_price=52, market_cap_rank='0.161012', high_24h=0.171489, low_24h=0.160685, price_change_24=-4.279611098649722, price_change_7d=16.85126958125926), Coin(symbol='theta', name='Theta Network', current_price=53, market_cap_rank='1.19', high_24h=1.21, low_24h=1.17, price_change_24=-1.4541604454217845, price_change_7d=4.543409008238756), Coin(symbol='cusdc', name='cUSDC', current_price=54, market_cap_rank='0.02266142', high_24h=0.02266142, low_24h=0.02257926, price_change_24=0.2771315935364717, price_change_7d=0.03540177851948432), Coin(symbol='hbtc', name='Huobi BTC', current_price=55, market_cap_rank='29,463', high_24h=29936, low_24h=29398, price_change_24=-0.9577598033814534, price_change_7d=1.2290663193524967), Coin(symbol='klay', name='Klaytn', current_price=56, market_cap_rank='0.402681', high_24h=0.410089, low_24h=0.39907, price_change_24=0.127418194558193, price_change_7d=-5.295357035833444), Coin(symbol='zec', name='Zcash', current_price=57, market_cap_rank='89.17', high_24h=90.18, low_24h=88.58, price_change_24=-0.6621367005760538, price_change_7d=2.263708507686691), Coin(symbol='ht', name='Huobi', current_price=58, market_cap_rank='7.16', high_24h=7.18, low_24h=7.04, price_change_24=1.090789860440993, price_change_7d=2.059425499300786), Coin(symbol='dfi', name='DeFiChain', current_price=59, market_cap_rank='2.07', high_24h=2.11, low_24h=2.07, price_change_24=-1.4343773766154775, price_change_7d=-5.651955745593085), Coin(symbol='bsv', name='Bitcoin SV', current_price=60, market_cap_rank='56.08', high_24h=57.41, low_24h=54.6, price_change_24=2.056673743735524, price_change_7d=13.778418377310558), Coin(symbol='mkr', name='Maker', current_price=61, market_cap_rank='1,169.45', high_24h=1191.64, low_24h=1150.51, price_change_24=0.08913802793470522, price_change_7d=-4.011614990776745), Coin(symbol='btt', name='BitTorrent', current_price=62, market_cap_rank='1.07e-06', high_24h=1.08e-06, low_24h=1.05e-06, price_change_24=1.0132191123619632, price_change_7d=3.2373372085054477), Coin(symbol='miota', name='IOTA', current_price=63, market_cap_rank='0.348433', high_24h=0.352295, low_24h=0.343721, price_change_24=-0.297366017075064, price_change_7d=8.689142309806137), Coin(symbol='usdp', name='Pax Dollar', current_price=65, market_cap_rank='1.001', high_24h=1.005, low_24h=1.0, price_change_24=-0.06043778767158246, price_change_7d=-0.19932879422456182), Coin(symbol='hnt', name='Helium', current_price=64, market_cap_rank='9.32', high_24h=9.65, low_24h=8.62, price_change_24=6.2070247521475785, price_change_7d=29.74196106526403), Coin(symbol='xec', name='eCash', current_price=66, market_cap_rank='4.827e-05', high_24h=4.871e-05, low_24h=4.778e-05, price_change_24=0.10935659122795359, price_change_7d=1.05493016629999), Coin(symbol='rune', name='THORChain', current_price=68, market_cap_rank='2.94', high_24h=3.0, low_24h=2.84, price_change_24=2.0390328078836153, price_change_7d=13.834269879394794), Coin(symbol='ftm', name='Fantom', current_price=67, market_cap_rank='0.348556', high_24h=0.356029, low_24h=0.343374, price_change_24=-1.2421126413930006, price_change_7d=-6.517818667862355), Coin(symbol='qnt', name='Quant', current_price=69, market_cap_rank='65.15', high_24h=65.83, low_24h=63.91, price_change_24=0.787970791351648, price_change_7d=-0.5944284141842014), Coin(symbol='waves', name='Waves', current_price=70, market_cap_rank='8.35', high_24h=9.47, low_24h=8.04, price_change_24=-11.631473568940246, price_change_7d=88.1149197638323), Coin(symbol='xrd', name='Radix', current_price=72, market_cap_rank='0.083752', high_24h=0.087544, low_24h=0.079498, price_change_24=-3.89206583824128, price_change_7d=1.36779142542726), Coin(symbol='usdn', name='Neutrino USD', current_price=71, market_cap_rank='0.990768', high_24h=0.996188, low_24h=0.97412, price_change_24=-0.08254851440101457, price_change_7d=1.1741042148269825), Coin(symbol='neo', name='NEO', current_price=73, market_cap_rank='11.55', high_24h=11.96, low_24h=10.99, price_change_24=3.0013752746058326, price_change_7d=9.911078870333204), Coin(symbol='gt', name='Gate', current_price=74, market_cap_rank='5.4', high_24h=5.42, low_24h=5.36, price_change_24=0.2989778223847292, price_change_7d=1.1307158945415599), Coin(symbol='lunc', name='Terra Luna Classic', current_price=75, market_cap_rank='8.195e-05', high_24h=9.491e-05, low_24h=8.1e-05, price_change_24=-13.08178362733154, price_change_7d=-8.352450399258776), Coin(symbol='cake', name='PancakeSwap', current_price=76, market_cap_rank='4.35', high_24h=4.36, low_24h=4.21, price_change_24=1.8381366084021393, price_change_7d=-0.30490890879258054), Coin(symbol='cdai', name='cDAI', current_price=77, market_cap_rank='0.0220352', high_24h=0.02208689, low_24h=0.02198389, price_change_24=-0.018682808712901757, price_change_7d=-0.12607188389111504), Coin(symbol='zil', name='Zilliqa', current_price=78, market_cap_rank='0.04962098', high_24h=0.050835, low_24h=0.04941331, price_change_24=-1.2832116423039084, price_change_7d=3.129959137384887), Coin(symbol='usdd', name='USDD', current_price=79, market_cap_rank='1.001', high_24h=1.004, low_24h=0.999633, price_change_24=-0.019281105805928123, price_change_7d=-0.13686229792692806), Coin(symbol='chz', name='Chiliz', current_price=80, market_cap_rank='0.124266', high_24h=0.129143, low_24h=0.123292, price_change_24=-2.0839388838465993, price_change_7d=9.636531995980295), Coin(symbol='nexo', name='NEXO', current_price=81, market_cap_rank='1.18', high_24h=1.22, low_24h=1.16, price_change_24=-0.2562756333748609, price_change_7d=-5.314194436491695), Coin(symbol='lrc', name='Loopring', current_price=82, market_cap_rank='0.507263', high_24h=0.520478, low_24h=0.503543, price_change_24=-0.5514318459559767, price_change_7d=4.683376608794649), Coin(symbol='ar', name='Arweave', current_price=83, market_cap_rank='12.56', high_24h=12.93, low_24h=12.43, price_change_24=-2.199732326290745, price_change_7d=-4.429920313745001), Coin(symbol='dash', name='Dash', current_price=84, market_cap_rank='58.06', high_24h=59.1, low_24h=57.71, price_change_24=-0.28831321656735265, price_change_7d=2.3531777849251143), Coin(symbol='paxg', name='PAX Gold', current_price=85, market_cap_rank='1,860.5', high_24h=1866.74, low_24h=1856.03, price_change_24=0.19363756224733478, price_change_7d=0.15759068640198523), Coin(symbol='ksm', name='Kusama', current_price=86, market_cap_rank='67.71', high_24h=70.06, low_24h=67.2, price_change_24=-0.8843589132252271, price_change_7d=0.07429082362925052), Coin(symbol='evmos', name='Evmos', current_price=87, market_cap_rank='2.94', high_24h=3.2, low_24h=2.78, price_change_24=-5.430900409793734, price_change_7d=-2.038187682708187), Coin(symbol='enj', name='Enjin Coin', current_price=88, market_cap_rank='0.616978', high_24h=0.624895, low_24h=0.60857, price_change_24=-0.39788797967696515, price_change_7d=2.6225588406819744), Coin(symbol='gmt', name='STEPN', current_price=89, market_cap_rank='0.945586', high_24h=1.012, low_24h=0.935873, price_change_24=-6.5317088033483115, price_change_7d=-9.074824382689359), Coin(symbol='stx', name='Stacks', current_price=90, market_cap_rank='0.539194', high_24h=0.549464, low_24h=0.526206, price_change_24=0.7156402950822357, price_change_7d=3.3382719571044106), Coin(symbol='celo', name='Celo', current_price=92, market_cap_rank='1.27', high_24h=1.29, low_24h=1.25, price_change_24=-0.33043192724441933, price_change_7d=-4.096752171732352), Coin(symbol='snx', name='Synthetix Network', current_price=93, market_cap_rank='2.57', high_24h=2.72, low_24h=2.57, price_change_24=-3.712923787393812, price_change_7d=3.1576277183795973), Coin(symbol='bat', name='Basic Attention', current_price=91, market_cap_rank='0.37692', high_24h=0.383767, low_24h=0.37332, price_change_24=-0.8679914708253987, price_change_7d=1.91199543371332), Coin(symbol='gala', name='Gala', current_price=94, market_cap_rank='0.073415', high_24h=0.075074, low_24h=0.072733, price_change_24=-1.1502992079873318, price_change_7d=1.0676378791335486), Coin(symbol='cusdt', name='cUSDT', current_price=95, market_cap_rank='0.0217684', high_24h=0.0217684, low_24h=0.0217684, price_change_24=0.0, price_change_7d=0.0), Coin(symbol='amp', name='Amp', current_price=96, market_cap_rank='0.0113656', high_24h=0.01168325, low_24h=0.01136555, price_change_24=-1.7444665139188464, price_change_7d=-2.910640838994116), Coin(symbol='fei', name='Fei USD', current_price=97, market_cap_rank='1.002', high_24h=1.005, low_24h=0.997018, price_change_24=0.17801364127765493, price_change_7d=0.10638051424865586), Coin(symbol='bit', name='BitDAO', current_price=98, market_cap_rank='0.542742', high_24h=0.572915, low_24h=0.512859, price_change_24=2.1824118815164137, price_change_7d=-24.950578806715715), Coin(symbol='cvx', name='Convex Finance', current_price=99, market_cap_rank='8.37', high_24h=8.58, low_24h=8.35, price_change_24=-1.331540470837036, price_change_7d=-10.857623330842786), Coin(symbol='kava', name='Kava', current_price=100, market_cap_rank='2.52', high_24h=2.56, low_24h=2.45, price_change_24=0.2746323043620966, price_change_7d=5.824654034007278)]\n"
     ]
    }
   ],
   "source": [
    "from collections import namedtuple\n",
    "import requests\n",
    "\n",
    "\n",
    "\n",
    "\n",
    "Coin = namedtuple(\"Coin\", \"symbol name current_price market_cap_rank high_24h low_24h price_change_24 price_change_7d\")\n",
    "\n",
    "def get_crypto_data() -> [Coin]:\n",
    "    base_url = \"https://api.coingecko.com/api/v3/coins/markets\"\n",
    "    payload = {\"vs_currency\":\"usd\",\n",
    "               \"order\":\"market_cap_desc\",\n",
    "               \"sparkline\":\"false\",\n",
    "              \"price_change_percentage\" : \"24h,7d,30d\"}\n",
    "    \n",
    "    data = requests.get(base_url, params = payload)\n",
    "    json = data.json()\n",
    "    \n",
    "    coin_list = []\n",
    "    \n",
    "    for coin in json:\n",
    "        symbol = coin[\"symbol\"]\n",
    "        name = coin[\"name\"]\n",
    "        market_cap_rank = coin[\"market_cap_rank\"]\n",
    "        current_price = \"{:,}\".format(coin[\"current_price\"])\n",
    "        high_24h = coin[\"high_24h\"]\n",
    "        low_24h = coin[\"low_24h\"]\n",
    "        price_change_24 = coin[\"price_change_percentage_24h_in_currency\"]\n",
    "        price_change_7d = coin[\"price_change_percentage_7d_in_currency\"]       \n",
    "        \n",
    "        current = Coin(symbol, name, market_cap_rank, current_price, high_24h, low_24h, price_change_24, price_change_7d)\n",
    "        \n",
    "        coin_list.append(current)\n",
    "        \n",
    "    return coin_list\n",
    "\n",
    "\n",
    "                   \n",
    "\n",
    "print(get_crypto_data())\n",
    "\n",
    "\n",
    "\n",
    "\n",
    "\n",
    "\n",
    "\n",
    "\n",
    "\n",
    "\n",
    "                                      \n",
    "                                \n",
    "        \n",
    "        \n",
    "\n",
    "               \n",
    "               \n",
    "               \n"
   ]
  },
  {
   "cell_type": "code",
   "execution_count": null,
   "id": "88feb6a0-0f77-40d4-a0df-1782c2e9a94f",
   "metadata": {},
   "outputs": [],
   "source": []
  },
  {
   "cell_type": "code",
   "execution_count": null,
   "id": "f1ea9e92-7b28-489b-8f62-993ef53b9dd8",
   "metadata": {},
   "outputs": [],
   "source": []
  },
  {
   "cell_type": "code",
   "execution_count": null,
   "id": "b12b3b34-18b0-4aa0-b604-5bb577a10128",
   "metadata": {},
   "outputs": [],
   "source": []
  },
  {
   "cell_type": "code",
   "execution_count": null,
   "id": "f92f6008-64df-462d-b11d-9b6cb4ff3dfc",
   "metadata": {},
   "outputs": [],
   "source": []
  }
 ],
 "metadata": {
  "kernelspec": {
   "display_name": "python dev",
   "language": "python",
   "name": "dev"
  },
  "language_info": {
   "codemirror_mode": {
    "name": "ipython",
    "version": 3
   },
   "file_extension": ".py",
   "mimetype": "text/x-python",
   "name": "python",
   "nbconvert_exporter": "python",
   "pygments_lexer": "ipython3",
   "version": "3.9.7"
  }
 },
 "nbformat": 4,
 "nbformat_minor": 5
}
